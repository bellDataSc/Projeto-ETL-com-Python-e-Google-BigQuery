{
  "cells": [
    {
      "cell_type": "markdown",
      "metadata": {
        "id": "view-in-github",
        "colab_type": "text"
      },
      "source": [
        "<a href=\"https://colab.research.google.com/github/bellDataSc/Projeto-ETL-com-Python-e-Google-BigQuery/blob/main/etl_api_ibge_to_csv.ipynb\" target=\"_parent\"><img src=\"https://colab.research.google.com/assets/colab-badge.svg\" alt=\"Open In Colab\"/></a>"
      ]
    },
    {
      "cell_type": "markdown",
      "id": "78d50d50",
      "metadata": {
        "id": "78d50d50"
      },
      "source": [
        "# Projeto ETL com Python: API do IBGE → CSV\n",
        "\n",
        "Este notebook demonstra um pipeline de ETL simples: extração de dados da API do IBGE, transformação com pandas e salvamento local em CSV. Ideal para rodar no **Google Colab** ou como exemplo de portfólio.\n"
      ]
    },
    {
      "cell_type": "code",
      "execution_count": null,
      "id": "383efe0f",
      "metadata": {
        "id": "383efe0f"
      },
      "outputs": [],
      "source": [
        "# Instalar bibliotecas necessárias (se estiver no Colab)\n",
        "!pip install pandas requests --quiet"
      ]
    },
    {
      "cell_type": "markdown",
      "id": "6550a239",
      "metadata": {
        "id": "6550a239"
      },
      "source": [
        "## 1. Extração de dados da API pública do IBGE"
      ]
    },
    {
      "cell_type": "code",
      "execution_count": null,
      "id": "3fb3d5fb",
      "metadata": {
        "id": "3fb3d5fb"
      },
      "outputs": [],
      "source": [
        "import requests\n",
        "\n",
        "url = \"https://servicodados.ibge.gov.br/api/v1/localidades/estados\"\n",
        "response = requests.get(url)\n",
        "data = response.json()\n",
        "\n",
        "print(f\" Registros extraídos: {len(data)}\")"
      ]
    },
    {
      "cell_type": "markdown",
      "id": "7374c04d",
      "metadata": {
        "id": "7374c04d"
      },
      "source": [
        "## 2. Transformação dos dados em DataFrame"
      ]
    },
    {
      "cell_type": "code",
      "execution_count": null,
      "id": "53383e73",
      "metadata": {
        "id": "53383e73"
      },
      "outputs": [],
      "source": [
        "import pandas as pd\n",
        "\n",
        "df = pd.json_normalize(data)\n",
        "df.columns = df.columns.str.lower()  # deixar colunas em lowercase\n",
        "df.head()"
      ]
    },
    {
      "cell_type": "markdown",
      "id": "9f242b74",
      "metadata": {
        "id": "9f242b74"
      },
      "source": [
        "## 3. Carga: salvar os dados em CSV"
      ]
    },
    {
      "cell_type": "code",
      "execution_count": null,
      "id": "08553793",
      "metadata": {
        "id": "08553793"
      },
      "outputs": [],
      "source": [
        "csv_path = \"estados_brasileiros.csv\"\n",
        "df.to_csv(csv_path, index=False)\n",
        "print(f\" Arquivo CSV salvo como: {csv_path}\")"
      ]
    },
    {
      "cell_type": "markdown",
      "id": "33755720",
      "metadata": {
        "id": "33755720"
      },
      "source": [
        "### Faça download do CSV gerado abaixo:"
      ]
    },
    {
      "cell_type": "code",
      "execution_count": null,
      "id": "4a619cbb",
      "metadata": {
        "id": "4a619cbb"
      },
      "outputs": [],
      "source": [
        "from google.colab import files\n",
        "files.download(csv_path)"
      ]
    }
  ],
  "metadata": {
    "colab": {
      "provenance": [],
      "include_colab_link": true
    }
  },
  "nbformat": 4,
  "nbformat_minor": 5
}
